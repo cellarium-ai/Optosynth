{
 "cells": [
  {
   "cell_type": "markdown",
   "metadata": {},
   "source": [
    "# Pre-process Allen Brain electrophysiology data"
   ]
  },
  {
   "cell_type": "code",
   "execution_count": 1,
   "metadata": {},
   "outputs": [],
   "source": [
    "%matplotlib inline\n",
    "\n",
    "import os\n",
    "import sys\n",
    "notebook_path = os.path.abspath('')\n",
    "sources_path = os.path.abspath(os.path.join(notebook_path, 'sources'))\n",
    "sys.path.insert(0, sources_path)\n",
    "\n",
    "import numpy as np\n",
    "import matplotlib.pylab as plt\n",
    "\n",
    "from allensdk.core.cell_types_cache import CellTypesCache\n",
    "\n",
    "from allen_data import ProcessedAllenNeuronElectrophysiology"
   ]
  },
  {
   "cell_type": "code",
   "execution_count": 3,
   "metadata": {},
   "outputs": [],
   "source": [
    "optosynth_data_path = '/home/jupyter/mb-ml-data/Optosynth'"
   ]
  },
  {
   "cell_type": "code",
   "execution_count": 4,
   "metadata": {},
   "outputs": [],
   "source": [
    "electrophysiology_output_path = os.path.join(optosynth_data_path, 'processed_electrophysiology')\n",
    "if not os.path.exists(electrophysiology_output_path):\n",
    "    os.mkdir(electrophysiology_output_path)"
   ]
  },
  {
   "cell_type": "code",
   "execution_count": 5,
   "metadata": {},
   "outputs": [],
   "source": [
    "ctc = CellTypesCache(manifest_file=os.path.join(optosynth_data_path, 'allen_data', 'manifest.json'))\n",
    "cell_ids = np.load(os.path.join(optosynth_data_path, 'allen_data', 'good_cell_ids.npy'))"
   ]
  },
  {
   "cell_type": "code",
   "execution_count": null,
   "metadata": {},
   "outputs": [],
   "source": [
    "proc_cell_ids = []\n",
    "proc_sweep_indices = []\n",
    "proc_stim_amps = []\n",
    "proc_n_spikes = []\n",
    "bad_cell_ids = []\n",
    "\n",
    "for idx, cell_id in enumerate(cell_ids):\n",
    "    \n",
    "    print(f'Processing cell #{idx + 1} ({cell_id}) ...')\n",
    "    ephys = ctc.get_ephys_data(cell_id)\n",
    "    \n",
    "    try:\n",
    "        \n",
    "        p = ProcessedAllenNeuronElectrophysiology.from_electrophysiology(cell_id, ephys)\n",
    "        n_sweeps = p.n_sweeps\n",
    "        assert n_sweeps > 0\n",
    "        \n",
    "        # save\n",
    "        p.save(electrophysiology_output_path)\n",
    "        \n",
    "        # populate summary table\n",
    "        proc_cell_ids += ([p.cell_id] * n_sweeps)\n",
    "        proc_sweep_indices += list(range(n_sweeps))\n",
    "        proc_stim_amps += p.stim_amp_list\n",
    "        proc_n_spikes += p.n_spikes_list\n",
    "\n",
    "    except:\n",
    "        \n",
    "        bad_cell_ids.append(cell_id)"
   ]
  },
  {
   "cell_type": "code",
   "execution_count": null,
   "metadata": {},
   "outputs": [],
   "source": [
    "import pandas as pd\n",
    "\n",
    "proc_sweep_summary = np.asarray(\n",
    "    [proc_cell_ids,\n",
    "     proc_sweep_indices,\n",
    "     proc_stim_amps,\n",
    "     proc_n_spikes]).T\n",
    "\n",
    "proc_sweep_summary_df = pd.DataFrame(\n",
    "    list(zip(\n",
    "        proc_cell_ids, proc_sweep_indices, proc_stim_amps, proc_n_spikes)),\n",
    "    columns=['cell_id', 'sweep_index', 'stim_amp', 'n_spikes'])\n",
    "\n",
    "proc_sweep_summary_df.to_csv(\n",
    "    os.path.join(optosynth_data_path, 'processed_electrophysiology_summary.csv'))"
   ]
  },
  {
   "cell_type": "code",
   "execution_count": 9,
   "metadata": {},
   "outputs": [
    {
     "data": {
      "text/plain": [
       "Text(0, 0.5, 'voltage (mV)')"
      ]
     },
     "execution_count": 9,
     "metadata": {},
     "output_type": "execute_result"
    },
    {
     "data": {
      "image/png": "[encoded data removed]",
      "text/plain": [
       "<Figure size 720x216 with 1 Axes>"
      ]
     },
     "metadata": {
      "needs_background": "light"
     },
     "output_type": "display_data"
    }
   ],
   "source": [
    "cell_id = cell_ids[20]\n",
    "p = ProcessedAllenNeuronElectrophysiology.from_file(\n",
    "    os.path.join(electrophysiology_output_path, f'{cell_id}_processed_electrophysiology.pkl'))\n",
    "fig = plt.figure(figsize=(10, 3))\n",
    "ax = plt.gca()\n",
    "ax.plot(p.time_list[-8], p.voltage_list[-8])\n",
    "ax.set_xlabel('time (s)')\n",
    "ax.set_ylabel('voltage (mV)')"
   ]
  }
 ],
 "metadata": {
  "environment": {
   "name": "pytorch-gpu.1-7.m65",
   "type": "gcloud",
   "uri": "gcr.io/deeplearning-platform-release/pytorch-gpu.1-7:m65"
  },
  "kernelspec": {
   "display_name": "Python 3",
   "language": "python",
   "name": "python3"
  },
  "language_info": {
   "codemirror_mode": {
    "name": "ipython",
    "version": 3
   },
   "file_extension": ".py",
   "mimetype": "text/x-python",
   "name": "python",
   "nbconvert_exporter": "python",
   "pygments_lexer": "ipython3",
   "version": "3.7.10"
  }
 },
 "nbformat": 4,
 "nbformat_minor": 4
}
